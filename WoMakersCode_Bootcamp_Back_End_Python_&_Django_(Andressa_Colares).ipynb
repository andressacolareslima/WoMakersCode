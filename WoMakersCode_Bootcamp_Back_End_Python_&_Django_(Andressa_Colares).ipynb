{
  "nbformat": 4,
  "nbformat_minor": 0,
  "metadata": {
    "colab": {
      "provenance": []
    },
    "kernelspec": {
      "name": "python3",
      "display_name": "Python 3"
    },
    "language_info": {
      "name": "python"
    }
  },
  "cells": [
    {
      "cell_type": "markdown",
      "source": [
        "DESAFIO 1\n",
        "\n",
        "Crie um programa que solicita ao usuário que insira três notas (valores de 0 a 10) e, em seguida, calcule e exiba a média dessas notas.\n",
        "\n",
        "Além disso, informe ao usuário se ele foi aprovado ou reprovado com base na média das notas, considerando a média mínima de aprovação como 6."
      ],
      "metadata": {
        "id": "sdBUCCdzeef3"
      }
    },
    {
      "cell_type": "code",
      "source": [
        "while True:\n",
        "    validacao = True\n",
        "\n",
        "    nota1 = float(input(\"Digite uma nota:\"))\n",
        "    nota2 = float (input (\"Digite uma nota:\"))\n",
        "    nota3 = float (input (\"Digite uma nota:\"))\n",
        "\n",
        "    if 0.0 <= nota1 <= 10.0:\n",
        "        pass\n",
        "    else:\n",
        "        print(\"A primeira é nota inválida. Tente novamente.\")\n",
        "        validacao = False\n",
        "\n",
        "    if 0.0 <= nota2 <= 10.0:\n",
        "      pass\n",
        "    else:\n",
        "      print (\"A segunda nota é inválida. Tente novamente.\")\n",
        "      validacao = False\n",
        "\n",
        "    if 0.0 <= nota3 <= 10.0:\n",
        "      pass\n",
        "    else:\n",
        "      print (\"A terceira nota é inválida. Tente novamente.\")\n",
        "      validacao = False\n",
        "\n",
        "    if validacao:\n",
        "        media = (nota1 + nota2 + nota3) / 3\n",
        "\n",
        "        if media >= 6.0:\n",
        "            print(f\"Parabéns, você foi aprovado! Sua média é: {media:.2f}\")\n",
        "            break\n",
        "        else:\n",
        "            print(f\"Você foi reprovado. Sua média é: {media:.2f}\")\n",
        "            break\n",
        "    else:\n",
        "        print(\"Está média não pode ser calculada devido a notas inválidas.\")\n",
        "        break"
      ],
      "metadata": {
        "id": "j16D0tJ4evJ-",
        "colab": {
          "base_uri": "https://localhost:8080/"
        },
        "outputId": "2b0c1d79-3709-44c1-fba0-4139c412fc8a"
      },
      "execution_count": null,
      "outputs": [
        {
          "output_type": "stream",
          "name": "stdout",
          "text": [
            "Digite uma nota:7.9\n",
            "Digite uma nota:9\n",
            "Digite uma nota:6.7\n",
            "Parabéns, você foi aprovado! Sua média é: 7.87\n"
          ]
        }
      ]
    },
    {
      "cell_type": "markdown",
      "source": [
        "DESAFIO 2\n",
        "\n",
        "Crie um programa que solicita ao usuário que insira um número inteiro e, em seguida, verifica se o número é par ou ímpar.\n",
        "\n",
        "O programa deve exibir uma mensagem indicando se o número é par ou ímpar."
      ],
      "metadata": {
        "id": "ClKDF5t4gEyu"
      }
    },
    {
      "cell_type": "code",
      "source": [
        "numero = int (input (\"Digite um numéro para verificar se ele é par ou ímpar: \"))\n",
        "\n",
        "if numero % 2 == 0:\n",
        "    print (f\"O número {numero} é par.\")\n",
        "else:\n",
        "  print (f\"O número {numero} é ímpar.\")"
      ],
      "metadata": {
        "id": "GWkFk92kfuiO",
        "colab": {
          "base_uri": "https://localhost:8080/"
        },
        "outputId": "68182b13-0397-43b1-b7f3-94c456fa2120"
      },
      "execution_count": null,
      "outputs": [
        {
          "output_type": "stream",
          "name": "stdout",
          "text": [
            "Digite um numéro para verificar se ele é par ou ímpar: 10\n",
            "O número 10 é par\n"
          ]
        }
      ]
    },
    {
      "cell_type": "markdown",
      "source": [
        "DESAFIO 3\n",
        "\n",
        "Crie um programa que verifica se uma palavra fornecida pelo usuário é um palíndromo ou não.\n",
        "\n",
        "(Um palíndromo é uma palavra que é lida da mesma forma tanto da esquerda para a direita quanto da direita para a esquerda.)"
      ],
      "metadata": {
        "id": "MmsZIAj-e0NX"
      }
    },
    {
      "cell_type": "code",
      "source": [
        "palindromo = input (\"Digite uma palavra para vermos se é palíndromo: \").lower()\n",
        "\n",
        "def verifica_palindromo (palindromo):\n",
        "  return palindromo == palindromo [::-1]\n",
        "\n",
        "if verifica_palindromo (palindromo):\n",
        "  print (f\"A palavra {palindromo} é um palíndromo.\")\n",
        "else:\n",
        "  print (f\"A palavra {palindromo} não é um palíndromo. \")"
      ],
      "metadata": {
        "id": "PobFqQqafLNj",
        "colab": {
          "base_uri": "https://localhost:8080/"
        },
        "outputId": "e3fc18f5-2e6c-456e-8636-0c82cef41c53"
      },
      "execution_count": 1,
      "outputs": [
        {
          "output_type": "stream",
          "name": "stdout",
          "text": [
            "Digite uma palavra para vermos se é palíndromo: ana\n",
            "A palavra ana é um palíndromo.\n"
          ]
        }
      ]
    },
    {
      "cell_type": "markdown",
      "source": [
        "DESAFIO 4\n",
        "\n",
        "Crie um programa que solicita ao usuário que insira um número inteiro positivo e, em seguida, calcula e exibe o fatorial desse número.\n",
        "\n",
        "(O fatorial de um número é o produto de todos os números inteiros positivos de 1 até o próprio número.)"
      ],
      "metadata": {
        "id": "9WPRqUfIgLQK"
      }
    },
    {
      "cell_type": "code",
      "source": [
        "def eh_fatorial(numero):\n",
        "  negativo = True\n",
        "\n",
        "  while True:\n",
        "    if numero > 0:\n",
        "      pass\n",
        "    elif numero == 0:\n",
        "      return 1\n",
        "    else:\n",
        "      print (\"Não é possível calcular o fatorial de um número negativo.Tente novamente.\")\n",
        "      break\n",
        "\n",
        "    produto = 1\n",
        "    while numero > 1:\n",
        "        produto *= numero\n",
        "        numero -= 1\n",
        "    return produto\n",
        "\n",
        "numero = int (input (\"Digite um número inteiro e positivo para o cálculo do fatorial: \"))\n",
        "\n",
        "resultado = eh_fatorial (numero)\n",
        "\n",
        "print (f\"O fatorial de {numero} é {resultado}\")"
      ],
      "metadata": {
        "id": "B3VE36bRgJWu",
        "colab": {
          "base_uri": "https://localhost:8080/"
        },
        "outputId": "3e13e8f8-eb39-4d68-d0e8-18b744b6efdf"
      },
      "execution_count": null,
      "outputs": [
        {
          "output_type": "stream",
          "name": "stdout",
          "text": [
            "Digite um número inteiro e positivo para o cálculo do fatorial: 8\n",
            "O fatorial de 8 é 40320\n"
          ]
        }
      ]
    },
    {
      "cell_type": "markdown",
      "source": [
        "DESAFIO 5\n",
        "\n",
        "Crie um programa que permita ao usuário gerenciar suas tarefas diárias. O programa deve oferecer as seguintes funcionalidades:\n",
        "\n",
        "*   Adicionar uma nova tarefa;\n",
        "*   Visualizar todas as tarefas;\n",
        "*   Marcar uma tarefa como concluída;\n",
        "*   Remover uma tarefa;\n",
        "*   Sair do programa.\n",
        "\n",
        "(Você pode implementar essas funcionalidades usando listas para armazenar as tarefas e estruturas de controle como loops e condicionais para interagir com o usuário.)"
      ],
      "metadata": {
        "id": "dLmeFEi2fO9f"
      }
    },
    {
      "cell_type": "code",
      "source": [
        "def main():\n",
        "\n",
        "    tarefas = []\n",
        "\n",
        "    while True:\n",
        "        print(\"\\nGerenciador de Tarefas Diárias\")\n",
        "        print(\"-----------------------------\")\n",
        "        print(\"1. Adicionar Tarefa\")\n",
        "        print(\"2. Visualizar Tarefas\")\n",
        "        print(\"3. Marcar Tarefa como Concluída\")\n",
        "        print(\"4. Remover Tarefa\")\n",
        "        print(\"5. Sair\")\n",
        "\n",
        "        opcao = int(input(\"Digite a opção desejada: \"))\n",
        "\n",
        "        if opcao == 1:\n",
        "            adicionar_tarefa(tarefas)\n",
        "        elif opcao == 2:\n",
        "            visualizar_tarefas(tarefas)\n",
        "        elif opcao == 3:\n",
        "            marcar_tarefa_como_concluida(tarefas)\n",
        "        elif opcao == 4:\n",
        "            remover_tarefa(tarefas)\n",
        "        elif opcao == 5:\n",
        "            print(\"Saindo do programa...\")\n",
        "            break\n",
        "        else:\n",
        "            print(\"Opção inválida. Tente novamente.\")\n",
        "\n",
        "def adicionar_tarefa(tarefas):\n",
        "\n",
        "    nome_tarefa = input(\"Digite o nome da tarefa: \")\n",
        "    tarefas.append(nome_tarefa)\n",
        "    print(\"Tarefa adicionada com sucesso!\")\n",
        "\n",
        "def visualizar_tarefas(tarefas):\n",
        "\n",
        "    if not tarefas:\n",
        "        print(\"Você não tem nenhuma tarefa cadastrada.\")\n",
        "    else:\n",
        "        print(\"\\nTarefas:\")\n",
        "        for indice, tarefa in enumerate(tarefas):\n",
        "            print(f\"{indice + 1}. {tarefa}\")\n",
        "\n",
        "def marcar_tarefa_como_concluida(tarefas):\n",
        "\n",
        "    if not tarefas:\n",
        "        print(\"Você não tem nenhuma tarefa cadastrada.\")\n",
        "        return\n",
        "\n",
        "    visualizar_tarefas(tarefas)\n",
        "\n",
        "    indice_tarefa = int(input(\"Digite o índice da tarefa a ser concluída: \")) - 1\n",
        "\n",
        "    if 0 <= indice_tarefa < len(tarefas):\n",
        "        tarefas[indice_tarefa] = f\"**Concluído:** {tarefas[indice_tarefa]}\"\n",
        "        print(\"Tarefa marcada como concluída com sucesso!\")\n",
        "    else:\n",
        "        print(\"Índice inválido. Tente novamente.\")\n",
        "\n",
        "def remover_tarefa(tarefas):\n",
        "\n",
        "    if not tarefas:\n",
        "        print(\"Você não tem nenhuma tarefa cadastrada.\")\n",
        "        return\n",
        "\n",
        "    visualizar_tarefas(tarefas)\n",
        "\n",
        "    indice_tarefa = int(input(\"Digite o índice da tarefa a ser removida: \")) - 1\n",
        "\n",
        "    if 0 <= indice_tarefa < len(tarefas):\n",
        "        del tarefas[indice_tarefa]\n",
        "        print(\"Tarefa removida com sucesso!\")\n",
        "    else:\n",
        "        print(\"Índice inválido. Tente novamente.\")\n",
        "\n",
        "main()\n"
      ],
      "metadata": {
        "id": "8oExqSgagGzn",
        "colab": {
          "base_uri": "https://localhost:8080/"
        },
        "outputId": "1b2fe583-26e5-478a-ce04-bfaf5eb24194"
      },
      "execution_count": null,
      "outputs": [
        {
          "output_type": "stream",
          "name": "stdout",
          "text": [
            "\n",
            "Gerenciador de Tarefas Diárias\n",
            "-----------------------------\n",
            "1. Adicionar Tarefa\n",
            "2. Visualizar Tarefas\n",
            "3. Marcar Tarefa como Concluída\n",
            "4. Remover Tarefa\n",
            "5. Sair\n",
            "Digite a opção desejada: 5\n",
            "Saindo do programa...\n"
          ]
        }
      ]
    }
  ]
}